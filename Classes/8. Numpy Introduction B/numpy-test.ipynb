{
 "cells": [
  {
   "cell_type": "markdown",
   "id": "c3f076e3",
   "metadata": {},
   "source": [
    "# Numpy practice"
   ]
  },
  {
   "cell_type": "code",
   "execution_count": 1,
   "id": "cdf58032",
   "metadata": {},
   "outputs": [],
   "source": [
    "import numpy as np"
   ]
  },
  {
   "cell_type": "code",
   "execution_count": 2,
   "id": "752505b9",
   "metadata": {},
   "outputs": [],
   "source": [
    "n = 3 "
   ]
  },
  {
   "cell_type": "code",
   "execution_count": 3,
   "id": "c19ac2fa",
   "metadata": {},
   "outputs": [
    {
     "data": {
      "text/plain": [
       "8"
      ]
     },
     "execution_count": 3,
     "metadata": {},
     "output_type": "execute_result"
    }
   ],
   "source": [
    "2 ** n"
   ]
  },
  {
   "cell_type": "code",
   "execution_count": null,
   "id": "801b6ab4",
   "metadata": {},
   "outputs": [],
   "source": []
  }
 ],
 "metadata": {
  "kernelspec": {
   "display_name": ".venv",
   "language": "python",
   "name": "python3"
  },
  "language_info": {
   "codemirror_mode": {
    "name": "ipython",
    "version": 3
   },
   "file_extension": ".py",
   "mimetype": "text/x-python",
   "name": "python",
   "nbconvert_exporter": "python",
   "pygments_lexer": "ipython3",
   "version": "3.12.3"
  }
 },
 "nbformat": 4,
 "nbformat_minor": 5
}
