{
 "cells": [
  {
   "cell_type": "markdown",
   "id": "116ce7ff",
   "metadata": {},
   "source": [
    "This is a practice test for importing data form yfinance library, performing simpe data analysis expressions like mean, median, and standard deviation. The data is for Apple stock (AAPL) from and exporting that data to a CSV file. "
   ]
  },
  {
   "cell_type": "code",
   "execution_count": null,
   "id": "3f18120f",
   "metadata": {},
   "outputs": [],
   "source": [
    "import yfinance as yf\n",
    "import pandas as pd\n",
    "import numpy as np\n",
    "import matplotlib.pyplot as plt\n",
    "matplotlib inlin\n"
   ]
  }
 ],
 "metadata": {
  "kernelspec": {
   "display_name": ".venv",
   "language": "python",
   "name": "python3"
  },
  "language_info": {
   "name": "python",
   "version": "3.12.3"
  }
 },
 "nbformat": 4,
 "nbformat_minor": 5
}
