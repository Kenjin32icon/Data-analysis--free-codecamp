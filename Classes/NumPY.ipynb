{
 "cells": [
  {
   "cell_type": "markdown",
   "id": "0accf635",
   "metadata": {},
   "source": [
    "# Numpy practice for data analysis: numpy test, arrays, operations\n",
    "### Numpy test; Numpy Introduction B"
   ]
  },
  {
   "cell_type": "code",
   "execution_count": 89,
   "id": "739a502b",
   "metadata": {},
   "outputs": [],
   "source": [
    "import numpy as np"
   ]
  },
  {
   "cell_type": "code",
   "execution_count": 90,
   "id": "1dc63709",
   "metadata": {},
   "outputs": [],
   "source": [
    "n = 3 "
   ]
  },
  {
   "cell_type": "code",
   "execution_count": 91,
   "id": "ab94d79b",
   "metadata": {},
   "outputs": [
    {
     "data": {
      "text/plain": [
       "8"
      ]
     },
     "execution_count": 91,
     "metadata": {},
     "output_type": "execute_result"
    }
   ],
   "source": [
    "2 ** n"
   ]
  },
  {
   "cell_type": "code",
   "execution_count": null,
   "id": "36f268bf",
   "metadata": {},
   "outputs": [],
   "source": []
  },
  {
   "cell_type": "markdown",
   "id": "d4f1d0a6",
   "metadata": {},
   "source": [
    "### Numpy Arrays\n",
    "Basic Numpy Arrays"
   ]
  },
  {
   "cell_type": "code",
   "execution_count": 92,
   "id": "cee129cf",
   "metadata": {},
   "outputs": [],
   "source": [
    "# IMport the necessary libraries\n",
    "import sys\n",
    "import numpy as np"
   ]
  },
  {
   "cell_type": "code",
   "execution_count": 93,
   "id": "959ee9be",
   "metadata": {},
   "outputs": [
    {
     "data": {
      "text/plain": [
       "array([1, 2, 3, 4, 5])"
      ]
     },
     "execution_count": 93,
     "metadata": {},
     "output_type": "execute_result"
    }
   ],
   "source": [
    "np.array([1, 2, 3, 4, 5])  # Example of creating a numpy array"
   ]
  },
  {
   "cell_type": "code",
   "execution_count": null,
   "id": "bc11e003",
   "metadata": {},
   "outputs": [],
   "source": []
  },
  {
   "cell_type": "code",
   "execution_count": 94,
   "id": "edca4e96",
   "metadata": {},
   "outputs": [],
   "source": [
    "a = np.array([1, 2, 3, 4, 5]) #"
   ]
  },
  {
   "cell_type": "markdown",
   "id": "166d037e",
   "metadata": {},
   "source": [
    "Variation 1 of muti-indexing using 1"
   ]
  },
  {
   "cell_type": "code",
   "execution_count": 95,
   "id": "be37b450",
   "metadata": {},
   "outputs": [],
   "source": [
    "b = np.array([0, -5, 1, 1.5, 2])"
   ]
  },
  {
   "cell_type": "code",
   "execution_count": 96,
   "id": "a979f532",
   "metadata": {},
   "outputs": [
    {
     "data": {
      "text/plain": [
       "(np.int64(1), np.int64(2))"
      ]
     },
     "execution_count": 96,
     "metadata": {},
     "output_type": "execute_result"
    }
   ],
   "source": [
    "a[0], a[1]  # Accessing elements of the array"
   ]
  },
  {
   "cell_type": "code",
   "execution_count": 97,
   "id": "a2a0f5b9",
   "metadata": {},
   "outputs": [
    {
     "data": {
      "text/plain": [
       "array([ 0. , -5. ,  1. ,  1.5,  2. ])"
      ]
     },
     "execution_count": 97,
     "metadata": {},
     "output_type": "execute_result"
    }
   ],
   "source": [
    "b"
   ]
  },
  {
   "cell_type": "code",
   "execution_count": 98,
   "id": "4bcfded1",
   "metadata": {},
   "outputs": [
    {
     "data": {
      "text/plain": [
       "array([1, 2, 3, 4, 5])"
      ]
     },
     "execution_count": 98,
     "metadata": {},
     "output_type": "execute_result"
    }
   ],
   "source": [
    "a"
   ]
  },
  {
   "cell_type": "markdown",
   "id": "8e877913",
   "metadata": {},
   "source": [
    "### This is an example of multi-indexing 2d numpy arrays"
   ]
  },
  {
   "cell_type": "code",
   "execution_count": 99,
   "id": "60024854",
   "metadata": {},
   "outputs": [],
   "source": [
    "c = np.array([[1, 2, 3], [4, 5, 6], [7, 8, 9]])  # Example of a 2D numpy array"
   ]
  },
  {
   "cell_type": "code",
   "execution_count": 100,
   "id": "722ba9a7",
   "metadata": {},
   "outputs": [],
   "source": [
    "# You can access elements using multi-indexing\n",
    "element = c[1, 2]  # Accessing the element at row 1\n",
    "# and column 2 (which is 6 in this case)"
   ]
  },
  {
   "cell_type": "code",
   "execution_count": 101,
   "id": "34b60534",
   "metadata": {},
   "outputs": [
    {
     "name": "stdout",
     "output_type": "stream",
     "text": [
      "6\n"
     ]
    }
   ],
   "source": [
    "print(element)  # Output: 6"
   ]
  },
  {
   "cell_type": "markdown",
   "id": "83e7b031",
   "metadata": {},
   "source": [
    "###  Array types"
   ]
  },
  {
   "cell_type": "code",
   "execution_count": 102,
   "id": "9d78295a",
   "metadata": {},
   "outputs": [
    {
     "data": {
      "text/plain": [
       "array([1, 2, 3, 4, 5])"
      ]
     },
     "execution_count": 102,
     "metadata": {},
     "output_type": "execute_result"
    }
   ],
   "source": [
    "a"
   ]
  },
  {
   "cell_type": "code",
   "execution_count": 103,
   "id": "9b939e0b",
   "metadata": {},
   "outputs": [
    {
     "name": "stdout",
     "output_type": "stream",
     "text": [
      "int64\n"
     ]
    }
   ],
   "source": [
    "# using the .dtype method to check the data type of the array\n",
    "print(a.dtype)  # Output: int64 (or similar, depending on your system)"
   ]
  },
  {
   "cell_type": "code",
   "execution_count": 104,
   "id": "80e7356c",
   "metadata": {},
   "outputs": [
    {
     "data": {
      "text/plain": [
       "dtype('int64')"
      ]
     },
     "execution_count": 104,
     "metadata": {},
     "output_type": "execute_result"
    }
   ],
   "source": [
    "# or\n",
    "a.dtype  # This will also show the data type of the array "
   ]
  },
  {
   "cell_type": "code",
   "execution_count": 105,
   "id": "270c82c5",
   "metadata": {},
   "outputs": [
    {
     "name": "stdout",
     "output_type": "stream",
     "text": [
      "float64\n"
     ]
    }
   ],
   "source": [
    "print(b.dtype)  # Output: float64 (since b contains a float)"
   ]
  },
  {
   "cell_type": "code",
   "execution_count": 106,
   "id": "f92ea514",
   "metadata": {},
   "outputs": [
    {
     "name": "stdout",
     "output_type": "stream",
     "text": [
      "float64\n",
      "[1. 2. 3. 4. 5.]\n"
     ]
    }
   ],
   "source": [
    "# you can change the array's data type \n",
    "a = a.astype(float)  # Convert to float type\n",
    "print(a.dtype)  # Output: float64\n",
    "print(a)  # Output: [1. 2. 3. 4. 5.]"
   ]
  },
  {
   "cell_type": "code",
   "execution_count": 107,
   "id": "e00ce704",
   "metadata": {},
   "outputs": [
    {
     "name": "stdout",
     "output_type": "stream",
     "text": [
      "int8\n",
      "[1 2 3 4 5]\n"
     ]
    }
   ],
   "source": [
    "# you can chang the data type of the array into a smaller data type \n",
    "# for better memory usage\n",
    "a = a.astype(np.int8)  # Convert to int8 type\n",
    "print(a.dtype)  # Output: int8\n",
    "print(a)  # Output: [1 2 3 4 5]"
   ]
  },
  {
   "cell_type": "markdown",
   "id": "b2bd9254",
   "metadata": {},
   "source": [
    "### Dimensions and shapes"
   ]
  },
  {
   "cell_type": "code",
   "execution_count": 108,
   "id": "eb23d16e",
   "metadata": {},
   "outputs": [],
   "source": [
    "A = np.array([[1, 2, 3], [4, 5, 6], [7, 8, 9]])"
   ]
  },
  {
   "cell_type": "code",
   "execution_count": 109,
   "id": "b431a382",
   "metadata": {},
   "outputs": [
    {
     "data": {
      "text/plain": [
       "(3, 3)"
      ]
     },
     "execution_count": 109,
     "metadata": {},
     "output_type": "execute_result"
    }
   ],
   "source": [
    "# shape of the array\n",
    "A.shape"
   ]
  },
  {
   "cell_type": "code",
   "execution_count": 110,
   "id": "6feedd04",
   "metadata": {},
   "outputs": [
    {
     "data": {
      "text/plain": [
       "2"
      ]
     },
     "execution_count": 110,
     "metadata": {},
     "output_type": "execute_result"
    }
   ],
   "source": [
    "A.ndim  # Number of dimensions (2 in this case)"
   ]
  },
  {
   "cell_type": "code",
   "execution_count": 111,
   "id": "2ff239a4",
   "metadata": {},
   "outputs": [
    {
     "data": {
      "text/plain": [
       "9"
      ]
     },
     "execution_count": 111,
     "metadata": {},
     "output_type": "execute_result"
    }
   ],
   "source": [
    "A.size  # Total number of elements in the array (9 in this case)"
   ]
  },
  {
   "cell_type": "code",
   "execution_count": 112,
   "id": "340cbe7a",
   "metadata": {},
   "outputs": [],
   "source": [
    "# 3d array\n",
    "B = np.array([[[1, 2], [3, 4]], [[5, 6], [7, 8]]])  # Example of a 3D numpy array"
   ]
  },
  {
   "cell_type": "code",
   "execution_count": 113,
   "id": "e640fed6",
   "metadata": {},
   "outputs": [
    {
     "data": {
      "text/plain": [
       "array([[[1, 2],\n",
       "        [3, 4]],\n",
       "\n",
       "       [[5, 6],\n",
       "        [7, 8]]])"
      ]
     },
     "execution_count": 113,
     "metadata": {},
     "output_type": "execute_result"
    }
   ],
   "source": [
    "B"
   ]
  },
  {
   "cell_type": "code",
   "execution_count": 114,
   "id": "87f90c79",
   "metadata": {},
   "outputs": [
    {
     "data": {
      "text/plain": [
       "(2, 2, 2)"
      ]
     },
     "execution_count": 114,
     "metadata": {},
     "output_type": "execute_result"
    }
   ],
   "source": [
    "B.shape  # Shape of the 3D array"
   ]
  },
  {
   "cell_type": "code",
   "execution_count": 115,
   "id": "5e07203c",
   "metadata": {},
   "outputs": [
    {
     "data": {
      "text/plain": [
       "3"
      ]
     },
     "execution_count": 115,
     "metadata": {},
     "output_type": "execute_result"
    }
   ],
   "source": [
    "B.ndim  # Number of dimensions (3 in this case)"
   ]
  },
  {
   "cell_type": "code",
   "execution_count": 116,
   "id": "458aaa10",
   "metadata": {},
   "outputs": [
    {
     "data": {
      "text/plain": [
       "8"
      ]
     },
     "execution_count": 116,
     "metadata": {},
     "output_type": "execute_result"
    }
   ],
   "source": [
    "B.size  # Total number of elements in the 3D array (8 in this case)"
   ]
  },
  {
   "cell_type": "markdown",
   "id": "29a5a88f",
   "metadata": {},
   "source": [
    "You can create a wrong multidimentional array"
   ]
  },
  {
   "cell_type": "code",
   "execution_count": 117,
   "id": "f25c74fa",
   "metadata": {},
   "outputs": [],
   "source": [
    "#C = np.array([[[1, 2], [3, 4]], [[5, 6]]])  "
   ]
  },
  {
   "cell_type": "code",
   "execution_count": 118,
   "id": "356780ac",
   "metadata": {},
   "outputs": [],
   "source": [
    "#C.dtype  # This will raise an error because the array is not well-formed"
   ]
  },
  {
   "cell_type": "markdown",
   "id": "54c4fafc",
   "metadata": {},
   "source": [
    "### Indexing and slicing of matrices"
   ]
  },
  {
   "cell_type": "code",
   "execution_count": null,
   "id": "00b97dac",
   "metadata": {},
   "outputs": [],
   "source": []
  },
  {
   "cell_type": "code",
   "execution_count": 119,
   "id": "84a8897b",
   "metadata": {},
   "outputs": [],
   "source": [
    "# square matrix\n",
    "# This is an example of multi-indexing 3d numpy arrays\n",
    "D = np.array([[ # Example of a 3D numpy array\n",
    "            #   0, 1, 2 \n",
    "               [0, 1, 2], # 0\n",
    "               [3, 4, 5], # 1\n",
    "               [6, 7, 8] # 2\n",
    "               ],])\n",
    "           "
   ]
  },
  {
   "cell_type": "code",
   "execution_count": 120,
   "id": "41a0bfc7",
   "metadata": {},
   "outputs": [
    {
     "data": {
      "text/plain": [
       "array([0, 1, 2])"
      ]
     },
     "execution_count": 120,
     "metadata": {},
     "output_type": "execute_result"
    }
   ],
   "source": [
    "# Getting the 1st element of the 1st row\n",
    "D[0, 0]  # Output: 0"
   ]
  },
  {
   "cell_type": "code",
   "execution_count": 121,
   "id": "14af6d40",
   "metadata": {},
   "outputs": [
    {
     "data": {
      "text/plain": [
       "array([[0, 1, 2],\n",
       "       [3, 4, 5],\n",
       "       [6, 7, 8]])"
      ]
     },
     "execution_count": 121,
     "metadata": {},
     "output_type": "execute_result"
    }
   ],
   "source": [
    "D[0]  # Accessing elements using multi-indexing"
   ]
  },
  {
   "cell_type": "code",
   "execution_count": 122,
   "id": "43d402c7",
   "metadata": {},
   "outputs": [
    {
     "name": "stdout",
     "output_type": "stream",
     "text": [
      "[['a' 'b']\n",
      " ['d' 'e']\n",
      " ['g' 'h']]\n"
     ]
    }
   ],
   "source": [
    " # Question\n",
    "A = np.array([\n",
    "    ['a', 'b', 'c'],\n",
    "    ['d', 'e', 'f'],\n",
    "    ['g', 'h', 'i']\n",
    "])\n",
    "\n",
    "print(A[:, :2])"
   ]
  },
  {
   "cell_type": "markdown",
   "id": "1b44e759",
   "metadata": {},
   "source": [
    "### Numpy Operations\n",
    "Broadcasting and vectorizing operations in numpy\n"
   ]
  },
  {
   "cell_type": "code",
   "execution_count": 123,
   "id": "b2420969",
   "metadata": {},
   "outputs": [],
   "source": [
    "a = np.arange(4)  # This will create an array with values from 0 to 3"
   ]
  },
  {
   "cell_type": "code",
   "execution_count": 124,
   "id": "9a76eb5f",
   "metadata": {},
   "outputs": [
    {
     "data": {
      "text/plain": [
       "array([0, 1, 2, 3])"
      ]
     },
     "execution_count": 124,
     "metadata": {},
     "output_type": "execute_result"
    }
   ],
   "source": [
    "a"
   ]
  },
  {
   "cell_type": "code",
   "execution_count": 125,
   "id": "dc35b5d2",
   "metadata": {},
   "outputs": [
    {
     "data": {
      "text/plain": [
       "array([10, 11, 12, 13])"
      ]
     },
     "execution_count": 125,
     "metadata": {},
     "output_type": "execute_result"
    }
   ],
   "source": [
    "# Vectorizing operations involves performing operations on entire arrays. Example:\n",
    "a + 10"
   ]
  },
  {
   "cell_type": "markdown",
   "id": "a867a17a",
   "metadata": {},
   "source": [
    "The + 10 was added to each single value of the array "
   ]
  },
  {
   "cell_type": "code",
   "execution_count": 126,
   "id": "414d48a8",
   "metadata": {},
   "outputs": [
    {
     "data": {
      "text/plain": [
       "array([ 0, 10, 20, 30])"
      ]
     },
     "execution_count": 126,
     "metadata": {},
     "output_type": "execute_result"
    }
   ],
   "source": [
    " a * 10"
   ]
  },
  {
   "cell_type": "markdown",
   "id": "d132d35a",
   "metadata": {},
   "source": [
    "The operation of the named array is vectorized then broadcasted to each element of the named array. The result is a new named array with the same structure as the original. Essentialy creating a new array and returning it."
   ]
  },
  {
   "cell_type": "code",
   "execution_count": 127,
   "id": "ce839205",
   "metadata": {},
   "outputs": [
    {
     "data": {
      "text/plain": [
       "array([0, 1, 2, 3])"
      ]
     },
     "execution_count": 127,
     "metadata": {},
     "output_type": "execute_result"
    }
   ],
   "source": [
    "a"
   ]
  },
  {
   "cell_type": "code",
   "execution_count": 128,
   "id": "6748eaf7",
   "metadata": {},
   "outputs": [],
   "source": [
    "a += 100"
   ]
  },
  {
   "cell_type": "code",
   "execution_count": 129,
   "id": "02fb0db0",
   "metadata": {},
   "outputs": [
    {
     "data": {
      "text/plain": [
       "array([100, 101, 102, 103])"
      ]
     },
     "execution_count": 129,
     "metadata": {},
     "output_type": "execute_result"
    }
   ],
   "source": [
    "a"
   ]
  },
  {
   "cell_type": "code",
   "execution_count": 130,
   "id": "539ab9fd",
   "metadata": {},
   "outputs": [],
   "source": [
    "a = np.arange(4)  # Re-creating the array with values from 0 to 3"
   ]
  },
  {
   "cell_type": "code",
   "execution_count": 131,
   "id": "830d9098",
   "metadata": {},
   "outputs": [
    {
     "data": {
      "text/plain": [
       "array([0, 1, 2, 3])"
      ]
     },
     "execution_count": 131,
     "metadata": {},
     "output_type": "execute_result"
    }
   ],
   "source": [
    "a"
   ]
  }
 ],
 "metadata": {
  "kernelspec": {
   "display_name": ".venv",
   "language": "python",
   "name": "python3"
  },
  "language_info": {
   "codemirror_mode": {
    "name": "ipython",
    "version": 3
   },
   "file_extension": ".py",
   "mimetype": "text/x-python",
   "name": "python",
   "nbconvert_exporter": "python",
   "pygments_lexer": "ipython3",
   "version": "3.12.3"
  }
 },
 "nbformat": 4,
 "nbformat_minor": 5
}
