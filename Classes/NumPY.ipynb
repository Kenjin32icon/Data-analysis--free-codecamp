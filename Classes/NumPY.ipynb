{
 "cells": [
  {
   "cell_type": "markdown",
   "id": "0accf635",
   "metadata": {},
   "source": [
    "# Numpy practice"
   ]
  },
  {
   "cell_type": "code",
   "execution_count": 1,
   "id": "739a502b",
   "metadata": {},
   "outputs": [],
   "source": [
    "import numpy as np"
   ]
  },
  {
   "cell_type": "code",
   "execution_count": 2,
   "id": "1dc63709",
   "metadata": {},
   "outputs": [],
   "source": [
    "n = 3 "
   ]
  },
  {
   "cell_type": "code",
   "execution_count": 3,
   "id": "ab94d79b",
   "metadata": {},
   "outputs": [
    {
     "data": {
      "text/plain": [
       "8"
      ]
     },
     "execution_count": 3,
     "metadata": {},
     "output_type": "execute_result"
    }
   ],
   "source": [
    "2 ** n"
   ]
  },
  {
   "cell_type": "code",
   "execution_count": null,
   "id": "36f268bf",
   "metadata": {},
   "outputs": [],
   "source": []
  },
  {
   "cell_type": "markdown",
   "id": "d4f1d0a6",
   "metadata": {},
   "source": [
    "Basic Numpy Arrays"
   ]
  },
  {
   "cell_type": "code",
   "execution_count": 4,
   "id": "cee129cf",
   "metadata": {},
   "outputs": [],
   "source": [
    "# IMport the necessary libraries\n",
    "import sys\n",
    "import numpy as np"
   ]
  },
  {
   "cell_type": "code",
   "execution_count": 5,
   "id": "959ee9be",
   "metadata": {},
   "outputs": [
    {
     "data": {
      "text/plain": [
       "array([1, 2, 3, 4, 5])"
      ]
     },
     "execution_count": 5,
     "metadata": {},
     "output_type": "execute_result"
    }
   ],
   "source": [
    "np.array([1, 2, 3, 4, 5])  # Example of creating a numpy array"
   ]
  },
  {
   "cell_type": "code",
   "execution_count": null,
   "id": "bc11e003",
   "metadata": {},
   "outputs": [],
   "source": []
  },
  {
   "cell_type": "code",
   "execution_count": 6,
   "id": "edca4e96",
   "metadata": {},
   "outputs": [],
   "source": [
    "a = np.array([1, 2, 3, 4, 5]) #"
   ]
  },
  {
   "cell_type": "markdown",
   "id": "166d037e",
   "metadata": {},
   "source": [
    "Variation 1 of muti-indexing using 1"
   ]
  },
  {
   "cell_type": "code",
   "execution_count": 7,
   "id": "be37b450",
   "metadata": {},
   "outputs": [],
   "source": [
    "b = np.array([0, -5, 1, 1.5, 2])"
   ]
  },
  {
   "cell_type": "code",
   "execution_count": 8,
   "id": "a979f532",
   "metadata": {},
   "outputs": [
    {
     "data": {
      "text/plain": [
       "(np.int64(1), np.int64(2))"
      ]
     },
     "execution_count": 8,
     "metadata": {},
     "output_type": "execute_result"
    }
   ],
   "source": [
    "a[0], a[1]  # Accessing elements of the array"
   ]
  },
  {
   "cell_type": "code",
   "execution_count": 9,
   "id": "a2a0f5b9",
   "metadata": {},
   "outputs": [
    {
     "data": {
      "text/plain": [
       "array([ 0. , -5. ,  1. ,  1.5,  2. ])"
      ]
     },
     "execution_count": 9,
     "metadata": {},
     "output_type": "execute_result"
    }
   ],
   "source": [
    "b"
   ]
  },
  {
   "cell_type": "code",
   "execution_count": 10,
   "id": "4bcfded1",
   "metadata": {},
   "outputs": [
    {
     "data": {
      "text/plain": [
       "array([1, 2, 3, 4, 5])"
      ]
     },
     "execution_count": 10,
     "metadata": {},
     "output_type": "execute_result"
    }
   ],
   "source": [
    "a"
   ]
  },
  {
   "cell_type": "markdown",
   "id": "8e877913",
   "metadata": {},
   "source": [
    "### This is an example of multi-indexing 2d numpy arrays"
   ]
  },
  {
   "cell_type": "code",
   "execution_count": 11,
   "id": "60024854",
   "metadata": {},
   "outputs": [],
   "source": [
    "c = np.array([[1, 2, 3], [4, 5, 6], [7, 8, 9]])  # Example of a 2D numpy array"
   ]
  },
  {
   "cell_type": "code",
   "execution_count": 12,
   "id": "722ba9a7",
   "metadata": {},
   "outputs": [],
   "source": [
    "# You can access elements using multi-indexing\n",
    "element = c[1, 2]  # Accessing the element at row 1\n",
    "# and column 2 (which is 6 in this case)"
   ]
  },
  {
   "cell_type": "code",
   "execution_count": 13,
   "id": "34b60534",
   "metadata": {},
   "outputs": [
    {
     "name": "stdout",
     "output_type": "stream",
     "text": [
      "6\n"
     ]
    }
   ],
   "source": [
    "print(element)  # Output: 6"
   ]
  },
  {
   "cell_type": "markdown",
   "id": "83e7b031",
   "metadata": {},
   "source": [
    "###  Array types"
   ]
  },
  {
   "cell_type": "code",
   "execution_count": 14,
   "id": "9d78295a",
   "metadata": {},
   "outputs": [
    {
     "data": {
      "text/plain": [
       "array([1, 2, 3, 4, 5])"
      ]
     },
     "execution_count": 14,
     "metadata": {},
     "output_type": "execute_result"
    }
   ],
   "source": [
    "a"
   ]
  },
  {
   "cell_type": "code",
   "execution_count": 15,
   "id": "9b939e0b",
   "metadata": {},
   "outputs": [
    {
     "name": "stdout",
     "output_type": "stream",
     "text": [
      "int64\n"
     ]
    }
   ],
   "source": [
    "# using the .dtype method to check the data type of the array\n",
    "print(a.dtype)  # Output: int64 (or similar, depending on your system)"
   ]
  },
  {
   "cell_type": "code",
   "execution_count": 16,
   "id": "80e7356c",
   "metadata": {},
   "outputs": [
    {
     "data": {
      "text/plain": [
       "dtype('int64')"
      ]
     },
     "execution_count": 16,
     "metadata": {},
     "output_type": "execute_result"
    }
   ],
   "source": [
    "# or\n",
    "a.dtype  # This will also show the data type of the array "
   ]
  },
  {
   "cell_type": "code",
   "execution_count": 17,
   "id": "270c82c5",
   "metadata": {},
   "outputs": [
    {
     "name": "stdout",
     "output_type": "stream",
     "text": [
      "float64\n"
     ]
    }
   ],
   "source": [
    "print(b.dtype)  # Output: float64 (since b contains a float)"
   ]
  },
  {
   "cell_type": "code",
   "execution_count": 18,
   "id": "f92ea514",
   "metadata": {},
   "outputs": [
    {
     "name": "stdout",
     "output_type": "stream",
     "text": [
      "float64\n",
      "[1. 2. 3. 4. 5.]\n"
     ]
    }
   ],
   "source": [
    "# you can change the array's data type \n",
    "a = a.astype(float)  # Convert to float type\n",
    "print(a.dtype)  # Output: float64\n",
    "print(a)  # Output: [1. 2. 3. 4. 5.]"
   ]
  },
  {
   "cell_type": "code",
   "execution_count": 19,
   "id": "e00ce704",
   "metadata": {},
   "outputs": [
    {
     "name": "stdout",
     "output_type": "stream",
     "text": [
      "int8\n",
      "[1 2 3 4 5]\n"
     ]
    }
   ],
   "source": [
    "# you can chang the data type of the array into a smaller data type \n",
    "# for better memory usage\n",
    "a = a.astype(np.int8)  # Convert to int8 type\n",
    "print(a.dtype)  # Output: int8\n",
    "print(a)  # Output: [1 2 3 4 5]"
   ]
  },
  {
   "cell_type": "markdown",
   "id": "b2bd9254",
   "metadata": {},
   "source": [
    "### Dimensions and shapes"
   ]
  },
  {
   "cell_type": "code",
   "execution_count": 20,
   "id": "eb23d16e",
   "metadata": {},
   "outputs": [],
   "source": [
    "A = np.array([[1, 2, 3], [4, 5, 6], [7, 8, 9]])"
   ]
  },
  {
   "cell_type": "code",
   "execution_count": 21,
   "id": "b431a382",
   "metadata": {},
   "outputs": [
    {
     "data": {
      "text/plain": [
       "(3, 3)"
      ]
     },
     "execution_count": 21,
     "metadata": {},
     "output_type": "execute_result"
    }
   ],
   "source": [
    "# shape of the array\n",
    "A.shape"
   ]
  },
  {
   "cell_type": "code",
   "execution_count": 22,
   "id": "6feedd04",
   "metadata": {},
   "outputs": [
    {
     "data": {
      "text/plain": [
       "2"
      ]
     },
     "execution_count": 22,
     "metadata": {},
     "output_type": "execute_result"
    }
   ],
   "source": [
    "A.ndim  # Number of dimensions (2 in this case)"
   ]
  },
  {
   "cell_type": "code",
   "execution_count": 23,
   "id": "2ff239a4",
   "metadata": {},
   "outputs": [
    {
     "data": {
      "text/plain": [
       "9"
      ]
     },
     "execution_count": 23,
     "metadata": {},
     "output_type": "execute_result"
    }
   ],
   "source": [
    "A.size  # Total number of elements in the array (9 in this case)"
   ]
  },
  {
   "cell_type": "code",
   "execution_count": 24,
   "id": "340cbe7a",
   "metadata": {},
   "outputs": [],
   "source": [
    "# 3d array\n",
    "B = np.array([[[1, 2], [3, 4]], [[5, 6], [7, 8]]])  # Example of a 3D numpy array"
   ]
  },
  {
   "cell_type": "code",
   "execution_count": 25,
   "id": "e640fed6",
   "metadata": {},
   "outputs": [
    {
     "data": {
      "text/plain": [
       "array([[[1, 2],\n",
       "        [3, 4]],\n",
       "\n",
       "       [[5, 6],\n",
       "        [7, 8]]])"
      ]
     },
     "execution_count": 25,
     "metadata": {},
     "output_type": "execute_result"
    }
   ],
   "source": [
    "B"
   ]
  },
  {
   "cell_type": "code",
   "execution_count": 26,
   "id": "87f90c79",
   "metadata": {},
   "outputs": [
    {
     "data": {
      "text/plain": [
       "(2, 2, 2)"
      ]
     },
     "execution_count": 26,
     "metadata": {},
     "output_type": "execute_result"
    }
   ],
   "source": [
    "B.shape  # Shape of the 3D array"
   ]
  },
  {
   "cell_type": "code",
   "execution_count": 27,
   "id": "5e07203c",
   "metadata": {},
   "outputs": [
    {
     "data": {
      "text/plain": [
       "3"
      ]
     },
     "execution_count": 27,
     "metadata": {},
     "output_type": "execute_result"
    }
   ],
   "source": [
    "B.ndim  # Number of dimensions (3 in this case)"
   ]
  },
  {
   "cell_type": "code",
   "execution_count": 28,
   "id": "458aaa10",
   "metadata": {},
   "outputs": [
    {
     "data": {
      "text/plain": [
       "8"
      ]
     },
     "execution_count": 28,
     "metadata": {},
     "output_type": "execute_result"
    }
   ],
   "source": [
    "B.size  # Total number of elements in the 3D array (8 in this case)"
   ]
  },
  {
   "cell_type": "markdown",
   "id": "29a5a88f",
   "metadata": {},
   "source": [
    "You can create a wrong multidimentional array"
   ]
  },
  {
   "cell_type": "code",
   "execution_count": 29,
   "id": "f25c74fa",
   "metadata": {},
   "outputs": [],
   "source": [
    "#C = np.array([[[1, 2], [3, 4]], [[5, 6]]])  "
   ]
  },
  {
   "cell_type": "code",
   "execution_count": 30,
   "id": "356780ac",
   "metadata": {},
   "outputs": [],
   "source": [
    "#C.dtype  # This will raise an error because the array is not well-formed"
   ]
  },
  {
   "cell_type": "markdown",
   "id": "54c4fafc",
   "metadata": {},
   "source": [
    "### Indexing and slicing of matrices"
   ]
  },
  {
   "cell_type": "code",
   "execution_count": null,
   "id": "00b97dac",
   "metadata": {},
   "outputs": [],
   "source": []
  },
  {
   "cell_type": "code",
   "execution_count": 31,
   "id": "84a8897b",
   "metadata": {},
   "outputs": [],
   "source": [
    "# square matrix\n",
    "# This is an example of multi-indexing 3d numpy arrays\n",
    "D = np.array([[ # Example of a 3D numpy array\n",
    "            #   0, 1, 2 \n",
    "               [0, 1, 2], # 0\n",
    "               [3, 4, 5], # 1\n",
    "               [6, 7, 8] # 2\n",
    "               ],])\n",
    "           "
   ]
  },
  {
   "cell_type": "code",
   "execution_count": 32,
   "id": "41a0bfc7",
   "metadata": {},
   "outputs": [
    {
     "data": {
      "text/plain": [
       "array([0, 1, 2])"
      ]
     },
     "execution_count": 32,
     "metadata": {},
     "output_type": "execute_result"
    }
   ],
   "source": [
    "# Getting the 1st element of the 1st row\n",
    "D[0, 0]  # Output: 0"
   ]
  },
  {
   "cell_type": "code",
   "execution_count": 33,
   "id": "14af6d40",
   "metadata": {},
   "outputs": [
    {
     "data": {
      "text/plain": [
       "array([[0, 1, 2],\n",
       "       [3, 4, 5],\n",
       "       [6, 7, 8]])"
      ]
     },
     "execution_count": 33,
     "metadata": {},
     "output_type": "execute_result"
    }
   ],
   "source": [
    "D[0]  # Accessing elements using multi-indexing"
   ]
  },
  {
   "cell_type": "code",
   "execution_count": 34,
   "id": "43d402c7",
   "metadata": {},
   "outputs": [
    {
     "name": "stdout",
     "output_type": "stream",
     "text": [
      "[['a' 'b']\n",
      " ['d' 'e']\n",
      " ['g' 'h']]\n"
     ]
    }
   ],
   "source": [
    " # Question\n",
    "A = np.array([\n",
    "    ['a', 'b', 'c'],\n",
    "    ['d', 'e', 'f'],\n",
    "    ['g', 'h', 'i']\n",
    "])\n",
    "\n",
    "print(A[:, :2])"
   ]
  }
 ],
 "metadata": {
  "kernelspec": {
   "display_name": ".venv",
   "language": "python",
   "name": "python3"
  },
  "language_info": {
   "codemirror_mode": {
    "name": "ipython",
    "version": 3
   },
   "file_extension": ".py",
   "mimetype": "text/x-python",
   "name": "python",
   "nbconvert_exporter": "python",
   "pygments_lexer": "ipython3",
   "version": "3.12.3"
  }
 },
 "nbformat": 4,
 "nbformat_minor": 5
}
