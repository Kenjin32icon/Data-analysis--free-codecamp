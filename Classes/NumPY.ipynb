{
 "cells": [
  {
   "cell_type": "markdown",
   "id": "0accf635",
   "metadata": {},
   "source": [
    "# Numpy practice for data analysis: numpy test, arrays, operations\n",
    "### Numpy test; Numpy Introduction B"
   ]
  },
  {
   "cell_type": "code",
   "execution_count": 1,
   "id": "739a502b",
   "metadata": {},
   "outputs": [],
   "source": [
    "# IMport the necessary libraries\n",
    "import sys\n",
    "import numpy as np"
   ]
  },
  {
   "cell_type": "code",
   "execution_count": 2,
   "id": "1dc63709",
   "metadata": {},
   "outputs": [],
   "source": [
    "n = 3 "
   ]
  },
  {
   "cell_type": "code",
   "execution_count": 3,
   "id": "ab94d79b",
   "metadata": {},
   "outputs": [
    {
     "data": {
      "text/plain": [
       "8"
      ]
     },
     "execution_count": 3,
     "metadata": {},
     "output_type": "execute_result"
    }
   ],
   "source": [
    "2 ** n"
   ]
  },
  {
   "cell_type": "code",
   "execution_count": null,
   "id": "36f268bf",
   "metadata": {},
   "outputs": [],
   "source": []
  },
  {
   "cell_type": "markdown",
   "id": "d4f1d0a6",
   "metadata": {},
   "source": [
    "### Numpy Arrays\n",
    "Basic Numpy Arrays"
   ]
  },
  {
   "cell_type": "code",
   "execution_count": 4,
   "id": "959ee9be",
   "metadata": {},
   "outputs": [
    {
     "data": {
      "text/plain": [
       "array([1, 2, 3, 4, 5])"
      ]
     },
     "execution_count": 4,
     "metadata": {},
     "output_type": "execute_result"
    }
   ],
   "source": [
    "np.array([1, 2, 3, 4, 5])  # Example of creating a numpy array"
   ]
  },
  {
   "cell_type": "code",
   "execution_count": null,
   "id": "bc11e003",
   "metadata": {},
   "outputs": [],
   "source": []
  },
  {
   "cell_type": "code",
   "execution_count": 5,
   "id": "edca4e96",
   "metadata": {},
   "outputs": [],
   "source": [
    "a = np.array([1, 2, 3, 4, 5]) #"
   ]
  },
  {
   "cell_type": "markdown",
   "id": "166d037e",
   "metadata": {},
   "source": [
    "Variation 1 of muti-indexing using 1"
   ]
  },
  {
   "cell_type": "code",
   "execution_count": 6,
   "id": "be37b450",
   "metadata": {},
   "outputs": [],
   "source": [
    "b = np.array([0, -5, 1, 1.5, 2])"
   ]
  },
  {
   "cell_type": "code",
   "execution_count": 7,
   "id": "a979f532",
   "metadata": {},
   "outputs": [
    {
     "data": {
      "text/plain": [
       "(np.int64(1), np.int64(2))"
      ]
     },
     "execution_count": 7,
     "metadata": {},
     "output_type": "execute_result"
    }
   ],
   "source": [
    "a[0], a[1]  # Accessing elements of the array"
   ]
  },
  {
   "cell_type": "code",
   "execution_count": 8,
   "id": "a2a0f5b9",
   "metadata": {},
   "outputs": [
    {
     "data": {
      "text/plain": [
       "array([ 0. , -5. ,  1. ,  1.5,  2. ])"
      ]
     },
     "execution_count": 8,
     "metadata": {},
     "output_type": "execute_result"
    }
   ],
   "source": [
    "b"
   ]
  },
  {
   "cell_type": "code",
   "execution_count": 9,
   "id": "4bcfded1",
   "metadata": {},
   "outputs": [
    {
     "data": {
      "text/plain": [
       "array([1, 2, 3, 4, 5])"
      ]
     },
     "execution_count": 9,
     "metadata": {},
     "output_type": "execute_result"
    }
   ],
   "source": [
    "a"
   ]
  },
  {
   "cell_type": "markdown",
   "id": "8e877913",
   "metadata": {},
   "source": [
    "### This is an example of multi-indexing 2d numpy arrays"
   ]
  },
  {
   "cell_type": "code",
   "execution_count": 10,
   "id": "60024854",
   "metadata": {},
   "outputs": [],
   "source": [
    "c = np.array([[1, 2, 3], [4, 5, 6], [7, 8, 9]])  # Example of a 2D numpy array"
   ]
  },
  {
   "cell_type": "code",
   "execution_count": 11,
   "id": "722ba9a7",
   "metadata": {},
   "outputs": [],
   "source": [
    "# You can access elements using multi-indexing\n",
    "element = c[1, 2]  # Accessing the element at row 1\n",
    "# and column 2 (which is 6 in this case)"
   ]
  },
  {
   "cell_type": "code",
   "execution_count": 12,
   "id": "34b60534",
   "metadata": {},
   "outputs": [
    {
     "name": "stdout",
     "output_type": "stream",
     "text": [
      "6\n"
     ]
    }
   ],
   "source": [
    "print(element)  # Output: 6"
   ]
  },
  {
   "cell_type": "markdown",
   "id": "83e7b031",
   "metadata": {},
   "source": [
    "###  Array types"
   ]
  },
  {
   "cell_type": "code",
   "execution_count": 13,
   "id": "9d78295a",
   "metadata": {},
   "outputs": [
    {
     "data": {
      "text/plain": [
       "array([1, 2, 3, 4, 5])"
      ]
     },
     "execution_count": 13,
     "metadata": {},
     "output_type": "execute_result"
    }
   ],
   "source": [
    "a"
   ]
  },
  {
   "cell_type": "code",
   "execution_count": 14,
   "id": "9b939e0b",
   "metadata": {},
   "outputs": [
    {
     "name": "stdout",
     "output_type": "stream",
     "text": [
      "int64\n"
     ]
    }
   ],
   "source": [
    "# using the .dtype method to check the data type of the array\n",
    "print(a.dtype)  # Output: int64 (or similar, depending on your system)"
   ]
  },
  {
   "cell_type": "code",
   "execution_count": 15,
   "id": "80e7356c",
   "metadata": {},
   "outputs": [
    {
     "data": {
      "text/plain": [
       "dtype('int64')"
      ]
     },
     "execution_count": 15,
     "metadata": {},
     "output_type": "execute_result"
    }
   ],
   "source": [
    "# or\n",
    "a.dtype  # This will also show the data type of the array "
   ]
  },
  {
   "cell_type": "code",
   "execution_count": 16,
   "id": "270c82c5",
   "metadata": {},
   "outputs": [
    {
     "name": "stdout",
     "output_type": "stream",
     "text": [
      "float64\n"
     ]
    }
   ],
   "source": [
    "print(b.dtype)  # Output: float64 (since b contains a float)"
   ]
  },
  {
   "cell_type": "code",
   "execution_count": 17,
   "id": "f92ea514",
   "metadata": {},
   "outputs": [
    {
     "name": "stdout",
     "output_type": "stream",
     "text": [
      "float64\n",
      "[1. 2. 3. 4. 5.]\n"
     ]
    }
   ],
   "source": [
    "# you can change the array's data type \n",
    "a = a.astype(float)  # Convert to float type\n",
    "print(a.dtype)  # Output: float64\n",
    "print(a)  # Output: [1. 2. 3. 4. 5.]"
   ]
  },
  {
   "cell_type": "code",
   "execution_count": 18,
   "id": "e00ce704",
   "metadata": {},
   "outputs": [
    {
     "name": "stdout",
     "output_type": "stream",
     "text": [
      "int8\n",
      "[1 2 3 4 5]\n"
     ]
    }
   ],
   "source": [
    "# you can chang the data type of the array into a smaller data type \n",
    "# for better memory usage\n",
    "a = a.astype(np.int8)  # Convert to int8 type\n",
    "print(a.dtype)  # Output: int8\n",
    "print(a)  # Output: [1 2 3 4 5]"
   ]
  },
  {
   "cell_type": "markdown",
   "id": "b2bd9254",
   "metadata": {},
   "source": [
    "### Dimensions and shapes"
   ]
  },
  {
   "cell_type": "code",
   "execution_count": 19,
   "id": "eb23d16e",
   "metadata": {},
   "outputs": [],
   "source": [
    "A = np.array([[1, 2, 3], [4, 5, 6], [7, 8, 9]])"
   ]
  },
  {
   "cell_type": "code",
   "execution_count": 20,
   "id": "b431a382",
   "metadata": {},
   "outputs": [
    {
     "data": {
      "text/plain": [
       "(3, 3)"
      ]
     },
     "execution_count": 20,
     "metadata": {},
     "output_type": "execute_result"
    }
   ],
   "source": [
    "# shape of the array\n",
    "A.shape"
   ]
  },
  {
   "cell_type": "code",
   "execution_count": 21,
   "id": "6feedd04",
   "metadata": {},
   "outputs": [
    {
     "data": {
      "text/plain": [
       "2"
      ]
     },
     "execution_count": 21,
     "metadata": {},
     "output_type": "execute_result"
    }
   ],
   "source": [
    "A.ndim  # Number of dimensions (2 in this case)"
   ]
  },
  {
   "cell_type": "code",
   "execution_count": 22,
   "id": "2ff239a4",
   "metadata": {},
   "outputs": [
    {
     "data": {
      "text/plain": [
       "9"
      ]
     },
     "execution_count": 22,
     "metadata": {},
     "output_type": "execute_result"
    }
   ],
   "source": [
    "A.size  # Total number of elements in the array (9 in this case)"
   ]
  },
  {
   "cell_type": "code",
   "execution_count": 23,
   "id": "340cbe7a",
   "metadata": {},
   "outputs": [],
   "source": [
    "# 3d array\n",
    "B = np.array([[[1, 2], [3, 4]], [[5, 6], [7, 8]]])  # Example of a 3D numpy array"
   ]
  },
  {
   "cell_type": "code",
   "execution_count": 24,
   "id": "e640fed6",
   "metadata": {},
   "outputs": [
    {
     "data": {
      "text/plain": [
       "array([[[1, 2],\n",
       "        [3, 4]],\n",
       "\n",
       "       [[5, 6],\n",
       "        [7, 8]]])"
      ]
     },
     "execution_count": 24,
     "metadata": {},
     "output_type": "execute_result"
    }
   ],
   "source": [
    "B"
   ]
  },
  {
   "cell_type": "code",
   "execution_count": 25,
   "id": "87f90c79",
   "metadata": {},
   "outputs": [
    {
     "data": {
      "text/plain": [
       "(2, 2, 2)"
      ]
     },
     "execution_count": 25,
     "metadata": {},
     "output_type": "execute_result"
    }
   ],
   "source": [
    "B.shape  # Shape of the 3D array"
   ]
  },
  {
   "cell_type": "code",
   "execution_count": 26,
   "id": "5e07203c",
   "metadata": {},
   "outputs": [
    {
     "data": {
      "text/plain": [
       "3"
      ]
     },
     "execution_count": 26,
     "metadata": {},
     "output_type": "execute_result"
    }
   ],
   "source": [
    "B.ndim  # Number of dimensions (3 in this case)"
   ]
  },
  {
   "cell_type": "code",
   "execution_count": 27,
   "id": "458aaa10",
   "metadata": {},
   "outputs": [
    {
     "data": {
      "text/plain": [
       "8"
      ]
     },
     "execution_count": 27,
     "metadata": {},
     "output_type": "execute_result"
    }
   ],
   "source": [
    "B.size  # Total number of elements in the 3D array (8 in this case)"
   ]
  },
  {
   "cell_type": "markdown",
   "id": "29a5a88f",
   "metadata": {},
   "source": [
    "You can create a wrong multidimentional array"
   ]
  },
  {
   "cell_type": "code",
   "execution_count": 28,
   "id": "f25c74fa",
   "metadata": {},
   "outputs": [],
   "source": [
    "#C = np.array([[[1, 2], [3, 4]], [[5, 6]]])  "
   ]
  },
  {
   "cell_type": "code",
   "execution_count": 29,
   "id": "356780ac",
   "metadata": {},
   "outputs": [],
   "source": [
    "#C.dtype  # This will raise an error because the array is not well-formed"
   ]
  },
  {
   "cell_type": "markdown",
   "id": "54c4fafc",
   "metadata": {},
   "source": [
    "### Indexing and slicing of matrices"
   ]
  },
  {
   "cell_type": "code",
   "execution_count": null,
   "id": "00b97dac",
   "metadata": {},
   "outputs": [],
   "source": []
  },
  {
   "cell_type": "code",
   "execution_count": 30,
   "id": "84a8897b",
   "metadata": {},
   "outputs": [],
   "source": [
    "# square matrix\n",
    "# This is an example of multi-indexing 3d numpy arrays\n",
    "D = np.array([[ # Example of a 3D numpy array\n",
    "            #   0, 1, 2 \n",
    "               [0, 1, 2], # 0\n",
    "               [3, 4, 5], # 1\n",
    "               [6, 7, 8] # 2\n",
    "               ],])\n",
    "           "
   ]
  },
  {
   "cell_type": "code",
   "execution_count": 31,
   "id": "41a0bfc7",
   "metadata": {},
   "outputs": [
    {
     "data": {
      "text/plain": [
       "array([0, 1, 2])"
      ]
     },
     "execution_count": 31,
     "metadata": {},
     "output_type": "execute_result"
    }
   ],
   "source": [
    "# Getting the 1st element of the 1st row\n",
    "D[0, 0]  # Output: 0"
   ]
  },
  {
   "cell_type": "code",
   "execution_count": 32,
   "id": "14af6d40",
   "metadata": {},
   "outputs": [
    {
     "data": {
      "text/plain": [
       "array([[0, 1, 2],\n",
       "       [3, 4, 5],\n",
       "       [6, 7, 8]])"
      ]
     },
     "execution_count": 32,
     "metadata": {},
     "output_type": "execute_result"
    }
   ],
   "source": [
    "D[0]  # Accessing elements using multi-indexing"
   ]
  },
  {
   "cell_type": "code",
   "execution_count": 33,
   "id": "43d402c7",
   "metadata": {},
   "outputs": [
    {
     "name": "stdout",
     "output_type": "stream",
     "text": [
      "[['a' 'b']\n",
      " ['d' 'e']\n",
      " ['g' 'h']]\n"
     ]
    }
   ],
   "source": [
    " # Question\n",
    "A = np.array([\n",
    "    ['a', 'b', 'c'],\n",
    "    ['d', 'e', 'f'],\n",
    "    ['g', 'h', 'i']\n",
    "])\n",
    "\n",
    "print(A[:, :2])"
   ]
  },
  {
   "cell_type": "markdown",
   "id": "1b44e759",
   "metadata": {},
   "source": [
    "### Numpy Operations\n",
    "Broadcasting and vectorizing operations in numpy\n"
   ]
  },
  {
   "cell_type": "code",
   "execution_count": 34,
   "id": "b2420969",
   "metadata": {},
   "outputs": [],
   "source": [
    "a = np.arange(4)  # This will create an array with values from 0 to 3"
   ]
  },
  {
   "cell_type": "code",
   "execution_count": 35,
   "id": "9a76eb5f",
   "metadata": {},
   "outputs": [
    {
     "data": {
      "text/plain": [
       "array([0, 1, 2, 3])"
      ]
     },
     "execution_count": 35,
     "metadata": {},
     "output_type": "execute_result"
    }
   ],
   "source": [
    "a"
   ]
  },
  {
   "cell_type": "code",
   "execution_count": 36,
   "id": "dc35b5d2",
   "metadata": {},
   "outputs": [
    {
     "data": {
      "text/plain": [
       "array([10, 11, 12, 13])"
      ]
     },
     "execution_count": 36,
     "metadata": {},
     "output_type": "execute_result"
    }
   ],
   "source": [
    "# Vectorizing operations involves performing operations on entire arrays. Example:\n",
    "a + 10"
   ]
  },
  {
   "cell_type": "markdown",
   "id": "a867a17a",
   "metadata": {},
   "source": [
    "The + 10 was added to each single value of the array "
   ]
  },
  {
   "cell_type": "code",
   "execution_count": 37,
   "id": "414d48a8",
   "metadata": {},
   "outputs": [
    {
     "data": {
      "text/plain": [
       "array([ 0, 10, 20, 30])"
      ]
     },
     "execution_count": 37,
     "metadata": {},
     "output_type": "execute_result"
    }
   ],
   "source": [
    " a * 10"
   ]
  },
  {
   "cell_type": "markdown",
   "id": "d132d35a",
   "metadata": {},
   "source": [
    "The operation of the named array is vectorized then broadcasted to each element of the named array. The result is a new named array with the same structure as the original. Essentialy creating a new array and returning it."
   ]
  },
  {
   "cell_type": "code",
   "execution_count": 38,
   "id": "ce839205",
   "metadata": {},
   "outputs": [
    {
     "data": {
      "text/plain": [
       "array([0, 1, 2, 3])"
      ]
     },
     "execution_count": 38,
     "metadata": {},
     "output_type": "execute_result"
    }
   ],
   "source": [
    "a"
   ]
  },
  {
   "cell_type": "code",
   "execution_count": 39,
   "id": "6748eaf7",
   "metadata": {},
   "outputs": [],
   "source": [
    "a += 100"
   ]
  },
  {
   "cell_type": "code",
   "execution_count": 40,
   "id": "02fb0db0",
   "metadata": {},
   "outputs": [
    {
     "data": {
      "text/plain": [
       "array([100, 101, 102, 103])"
      ]
     },
     "execution_count": 40,
     "metadata": {},
     "output_type": "execute_result"
    }
   ],
   "source": [
    "a"
   ]
  },
  {
   "cell_type": "code",
   "execution_count": 41,
   "id": "539ab9fd",
   "metadata": {},
   "outputs": [],
   "source": [
    "a = np.arange(4)  # Re-creating the array with values from 0 to 3"
   ]
  },
  {
   "cell_type": "code",
   "execution_count": 42,
   "id": "830d9098",
   "metadata": {},
   "outputs": [
    {
     "data": {
      "text/plain": [
       "array([0, 1, 2, 3])"
      ]
     },
     "execution_count": 42,
     "metadata": {},
     "output_type": "execute_result"
    }
   ],
   "source": [
    "a"
   ]
  },
  {
   "cell_type": "code",
   "execution_count": 43,
   "id": "a870c434",
   "metadata": {},
   "outputs": [],
   "source": [
    "# Exercise\n",
    "a = np.arange(5)"
   ]
  },
  {
   "cell_type": "code",
   "execution_count": 44,
   "id": "ac6740e5",
   "metadata": {},
   "outputs": [
    {
     "data": {
      "text/plain": [
       "array([20, 21, 22, 23, 24])"
      ]
     },
     "execution_count": 44,
     "metadata": {},
     "output_type": "execute_result"
    }
   ],
   "source": [
    "a + 20\n"
   ]
  },
  {
   "cell_type": "code",
   "execution_count": 45,
   "id": "1c8c7695",
   "metadata": {},
   "outputs": [
    {
     "data": {
      "text/plain": [
       "array([0, 1, 2, 3, 4])"
      ]
     },
     "execution_count": 45,
     "metadata": {},
     "output_type": "execute_result"
    }
   ],
   "source": [
    "a"
   ]
  },
  {
   "cell_type": "code",
   "execution_count": 46,
   "id": "16c76513",
   "metadata": {},
   "outputs": [],
   "source": [
    "a = a + 20"
   ]
  },
  {
   "cell_type": "code",
   "execution_count": 47,
   "id": "ad3c68a2",
   "metadata": {},
   "outputs": [
    {
     "data": {
      "text/plain": [
       "array([20, 21, 22, 23, 24])"
      ]
     },
     "execution_count": 47,
     "metadata": {},
     "output_type": "execute_result"
    }
   ],
   "source": [
    "a"
   ]
  },
  {
   "cell_type": "code",
   "execution_count": 48,
   "id": "3c59f64a",
   "metadata": {},
   "outputs": [
    {
     "data": {
      "text/plain": [
       "array([20, 21, 22, 23, 24])"
      ]
     },
     "execution_count": 48,
     "metadata": {},
     "output_type": "execute_result"
    }
   ],
   "source": [
    "a"
   ]
  },
  {
   "cell_type": "markdown",
   "id": "934aaf76",
   "metadata": {},
   "source": [
    "### Numpy Boolean Arrays\n",
    "(also called masks)"
   ]
  },
  {
   "cell_type": "code",
   "execution_count": 49,
   "id": "e554f92b",
   "metadata": {},
   "outputs": [],
   "source": [
    "a = np.arange(4)  # Re-creating the array with values from 0 to 3"
   ]
  },
  {
   "cell_type": "code",
   "execution_count": 50,
   "id": "c4c0e9bd",
   "metadata": {},
   "outputs": [
    {
     "data": {
      "text/plain": [
       "array([0, 1, 2, 3])"
      ]
     },
     "execution_count": 50,
     "metadata": {},
     "output_type": "execute_result"
    }
   ],
   "source": [
    "a"
   ]
  },
  {
   "cell_type": "code",
   "execution_count": 51,
   "id": "5236a878",
   "metadata": {},
   "outputs": [
    {
     "data": {
      "text/plain": [
       "(np.int64(0), np.int64(3))"
      ]
     },
     "execution_count": 51,
     "metadata": {},
     "output_type": "execute_result"
    }
   ],
   "source": [
    "# In python, you can access elements of a numpy array using indexing. For example:\n",
    "a[0], a[-1]"
   ]
  },
  {
   "cell_type": "code",
   "execution_count": 52,
   "id": "587d13c1",
   "metadata": {},
   "outputs": [
    {
     "data": {
      "text/plain": [
       "array([0, 3])"
      ]
     },
     "execution_count": 52,
     "metadata": {},
     "output_type": "execute_result"
    }
   ],
   "source": [
    "# Same as in numpy; multiindexing\n",
    "a[[0, -1]]  # Accessing the first and last elements using a list of indices"
   ]
  },
  {
   "cell_type": "code",
   "execution_count": 53,
   "id": "39b0cb29",
   "metadata": {},
   "outputs": [
    {
     "data": {
      "text/plain": [
       "array([0, 3])"
      ]
     },
     "execution_count": 53,
     "metadata": {},
     "output_type": "execute_result"
    }
   ],
   "source": [
    "# There is a third option of using a boolean mask\n",
    "# to select the rows of the dataframe that meet the condition\n",
    "# True if you want to select the elements, False if you want to skip them\n",
    "a[[True, False, False, True]] # Example boolean mask"
   ]
  },
  {
   "cell_type": "code",
   "execution_count": 54,
   "id": "4a81fbeb",
   "metadata": {},
   "outputs": [
    {
     "data": {
      "text/plain": [
       "array([ True,  True,  True, False])"
      ]
     },
     "execution_count": 54,
     "metadata": {},
     "output_type": "execute_result"
    }
   ],
   "source": [
    "a <= 2  # Example of a boolean mask condition"
   ]
  },
  {
   "cell_type": "code",
   "execution_count": 55,
   "id": "b8e4a2df",
   "metadata": {},
   "outputs": [
    {
     "data": {
      "text/plain": [
       "array([False, False,  True,  True])"
      ]
     },
     "execution_count": 55,
     "metadata": {},
     "output_type": "execute_result"
    }
   ],
   "source": [
    "a >= 2  # Example of a boolean mask condition"
   ]
  },
  {
   "cell_type": "code",
   "execution_count": 56,
   "id": "ce9051a6",
   "metadata": {},
   "outputs": [
    {
     "data": {
      "text/plain": [
       "array([2, 3])"
      ]
     },
     "execution_count": 56,
     "metadata": {},
     "output_type": "execute_result"
    }
   ],
   "source": [
    "# Advantage of boolean masks is that you can use them to filter the array based on conditions\n",
    "a[a>=2]"
   ]
  },
  {
   "cell_type": "code",
   "execution_count": 57,
   "id": "b717edd6",
   "metadata": {},
   "outputs": [
    {
     "data": {
      "text/plain": [
       "np.float64(1.5)"
      ]
     },
     "execution_count": 57,
     "metadata": {},
     "output_type": "execute_result"
    }
   ],
   "source": [
    "a.mean()  # Calculate the mean of the array"
   ]
  },
  {
   "cell_type": "code",
   "execution_count": 58,
   "id": "5fc0781a",
   "metadata": {},
   "outputs": [
    {
     "data": {
      "text/plain": [
       "array([2, 3])"
      ]
     },
     "execution_count": 58,
     "metadata": {},
     "output_type": "execute_result"
    }
   ],
   "source": [
    "# In numpy, you can also use boolean indexing to filter elements based on conditions and specific methods. For example:\n",
    "a[a >= a.mean()]  # This will return elements greater than the mean of the array"
   ]
  },
  {
   "cell_type": "code",
   "execution_count": 59,
   "id": "49775e58",
   "metadata": {},
   "outputs": [
    {
     "data": {
      "text/plain": [
       "array([0, 1])"
      ]
     },
     "execution_count": 59,
     "metadata": {},
     "output_type": "execute_result"
    }
   ],
   "source": [
    "a[a <= a.mean()] # This will return elements less than the mean of the array"
   ]
  },
  {
   "cell_type": "markdown",
   "id": "60c40a26",
   "metadata": {},
   "source": [
    " You can also include or[|] , and[$] operators in boolean masks"
   ]
  },
  {
   "cell_type": "code",
   "execution_count": 60,
   "id": "c5bbdd6a",
   "metadata": {},
   "outputs": [
    {
     "data": {
      "text/plain": [
       "array([0, 1])"
      ]
     },
     "execution_count": 60,
     "metadata": {},
     "output_type": "execute_result"
    }
   ],
   "source": [
    "# or[|] operation\n",
    "a[(a==0) | (a==1)]  # This will return elements that are either 0 or 1 in the array"
   ]
  },
  {
   "cell_type": "code",
   "execution_count": 61,
   "id": "676faf73",
   "metadata": {},
   "outputs": [
    {
     "data": {
      "text/plain": [
       "array([0, 2])"
      ]
     },
     "execution_count": 61,
     "metadata": {},
     "output_type": "execute_result"
    }
   ],
   "source": [
    "# and [&] operation\n",
    "a[(a<=2) & (a%2==0)]  # This will return elements that are less than or equal to 2 and even"
   ]
  },
  {
   "cell_type": "code",
   "execution_count": 62,
   "id": "2b945dae",
   "metadata": {},
   "outputs": [],
   "source": [
    "A =np.random.randint(0, 10, size=(4, 4))  # Example of creating a random integer array"
   ]
  },
  {
   "cell_type": "code",
   "execution_count": 63,
   "id": "f6e02219",
   "metadata": {},
   "outputs": [
    {
     "data": {
      "text/plain": [
       "array([[7, 5, 9, 9],\n",
       "       [1, 7, 1, 9],\n",
       "       [4, 2, 8, 5],\n",
       "       [9, 2, 9, 7]])"
      ]
     },
     "execution_count": 63,
     "metadata": {},
     "output_type": "execute_result"
    }
   ],
   "source": [
    "A"
   ]
  },
  {
   "cell_type": "code",
   "execution_count": 64,
   "id": "3ee6678c",
   "metadata": {},
   "outputs": [
    {
     "data": {
      "text/plain": [
       "array([7, 9, 1, 7, 1, 2, 8, 9, 2])"
      ]
     },
     "execution_count": 64,
     "metadata": {},
     "output_type": "execute_result"
    }
   ],
   "source": [
    "# Not normaly done but you can use boolean indexing with a boolean mask to select specific rows and columns\n",
    "# Example of a boolean mask to select specific rows and columns\n",
    "# This will return elements that match the boolean mask condition\n",
    "A[np.array([\n",
    "    [True, False, True, False], [True, True, True, False], [False, True, True, False], [True, True, False, False]] ) ] "
   ]
  },
  {
   "cell_type": "code",
   "execution_count": 65,
   "id": "9162fe63",
   "metadata": {},
   "outputs": [
    {
     "data": {
      "text/plain": [
       "array([[ True,  True,  True,  True],\n",
       "       [False,  True, False,  True],\n",
       "       [ True, False,  True,  True],\n",
       "       [ True, False,  True,  True]])"
      ]
     },
     "execution_count": 65,
     "metadata": {},
     "output_type": "execute_result"
    }
   ],
   "source": [
    "# boolean indexing\n",
    "A > 3"
   ]
  },
  {
   "cell_type": "markdown",
   "id": "39468a46",
   "metadata": {},
   "source": [
    "### Numpy Algebra and Size\n",
    "Linear Algebra"
   ]
  },
  {
   "cell_type": "code",
   "execution_count": null,
   "id": "6d8e7722",
   "metadata": {},
   "outputs": [],
   "source": []
  },
  {
   "cell_type": "markdown",
   "id": "bd048135",
   "metadata": {},
   "source": [
    "#### Size of objects in memory\n",
    "Int,floats"
   ]
  },
  {
   "cell_type": "code",
   "execution_count": null,
   "id": "954273d7",
   "metadata": {},
   "outputs": [
    {
     "data": {
      "text/plain": [
       "28"
      ]
     },
     "execution_count": 66,
     "metadata": {},
     "output_type": "execute_result"
    }
   ],
   "source": [
    "# An integer in Python is > 24bytes\n",
    "sys.getsizeof(1)  # Get the size of an integer in bytes"
   ]
  },
  {
   "cell_type": "code",
   "execution_count": 71,
   "id": "07ac9e86",
   "metadata": {},
   "outputs": [
    {
     "data": {
      "text/plain": [
       "184"
      ]
     },
     "execution_count": 71,
     "metadata": {},
     "output_type": "execute_result"
    }
   ],
   "source": [
    "# Longs are even larger\n",
    "sys.getsizeof(10**360)  # Get the size of a long integer in bytes"
   ]
  },
  {
   "cell_type": "code",
   "execution_count": 72,
   "id": "d455625e",
   "metadata": {},
   "outputs": [
    {
     "data": {
      "text/plain": [
       "8"
      ]
     },
     "execution_count": 72,
     "metadata": {},
     "output_type": "execute_result"
    }
   ],
   "source": [
    "# Numpy size is much smaller\n",
    "np.dtype(int).itemsize  # Get the size of an integer in bytes in numpy"
   ]
  }
 ],
 "metadata": {
  "kernelspec": {
   "display_name": "venv",
   "language": "python",
   "name": "python3"
  },
  "language_info": {
   "codemirror_mode": {
    "name": "ipython",
    "version": 3
   },
   "file_extension": ".py",
   "mimetype": "text/x-python",
   "name": "python",
   "nbconvert_exporter": "python",
   "pygments_lexer": "ipython3",
   "version": "3.12.3"
  }
 },
 "nbformat": 4,
 "nbformat_minor": 5
}
